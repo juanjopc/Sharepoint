{
 "cells": [
  {
   "cell_type": "code",
   "execution_count": null,
   "metadata": {},
   "outputs": [],
   "source": [
    "pip install Office365-REST-Python-Client\n"
   ]
  },
  {
   "cell_type": "code",
   "execution_count": null,
   "metadata": {},
   "outputs": [],
   "source": [
    "from office365.runtime.auth.user_credential import UserCredential\n",
    "from office365.sharepoint.client_context import ClientContext\n",
    "import os\n",
    "\n",
    "# URL de tu sitio SharePoint\n",
    "site_url = \"https://dominio.sharepoint.com/sites/sitio\"  #remplazar \"dominio\" y \"sitio\" por lo que corresponden\n",
    "\n",
    "# Credenciales de usuario\n",
    "username = \"nombre@ejemplo.com\" #remplazar por tu correo\n",
    "app_password = \"asdfghjklñ\"  #reemplazar por la app password que acabas de crear para tu usuario\n",
    "\n",
    "# Crear el contexto del cliente utilizando credenciales de usuario\n",
    "ctx = ClientContext(site_url).with_credentials(UserCredential(username, app_password))\n",
    "\n",
    "# Ruta de la carpeta local a cargar\n",
    "local_folder_path = r\"D:\\BOOT\\Users\\Username\\OneDrive etc\\Escritorio\\Carpeta de Prueba\" #cambiar por la carpeta origen\n",
    "# Ruta de la carpeta de destino en SharePoint\n",
    "sharepoint_folder_path =\"/sites/dominio/Shared%20Documents/carpeta\" #remplazar \"dominio\" y \"carpeta\", es necesario remplazar los espacios por \"%20\""
   ]
  },
  {
   "cell_type": "code",
   "execution_count": null,
   "metadata": {},
   "outputs": [],
   "source": [
    "#Codigo para copiar todas las carpetas y subcarpeta\n",
    "\n",
    "def upload_file_to_sharepoint(local_file_path, sharepoint_folder_url):\n",
    "    folder = ctx.web.get_folder_by_server_relative_url(sharepoint_folder_url)\n",
    "    with open(local_file_path, \"rb\") as file:\n",
    "        file_name = os.path.basename(local_file_path)\n",
    "        folder.upload_file(file_name, file.read()).execute_query()\n",
    "        print(f\"File '{file_name}' has been uploaded to '{sharepoint_folder_url}'\")\n",
    "\n",
    "def create_folder_in_sharepoint(sharepoint_folder_url, new_folder_name):\n",
    "    parent_folder = ctx.web.get_folder_by_server_relative_url(sharepoint_folder_url)\n",
    "    parent_folder.folders.add(new_folder_name).execute_query()\n",
    "    print(f\"Folder '{new_folder_name}' created at '{sharepoint_folder_url}'\")\n",
    "\n",
    "def upload_folder_to_sharepoint(local_folder, sharepoint_folder_url):\n",
    "    for root, dirs, files in os.walk(local_folder):\n",
    "        relative_path = os.path.relpath(root, local_folder)\n",
    "        target_sharepoint_folder = os.path.join(sharepoint_folder_url, relative_path).replace(\"\\\\\", \"/\")\n",
    "        \n",
    "        for dir_name in dirs:\n",
    "            create_folder_in_sharepoint(target_sharepoint_folder, dir_name)\n",
    "        \n",
    "        for file_name in files:\n",
    "            local_file_path = os.path.join(root, file_name)\n",
    "            upload_file_to_sharepoint(local_file_path, target_sharepoint_folder)\n",
    "\n",
    "# Ejecutar la subida de la carpeta\n",
    "upload_folder_to_sharepoint(local_folder_path, sharepoint_folder_path)"
   ]
  }
 ],
 "metadata": {
  "kernelspec": {
   "display_name": "Python 3",
   "language": "python",
   "name": "python3"
  },
  "language_info": {
   "codemirror_mode": {
    "name": "ipython",
    "version": 3
   },
   "file_extension": ".py",
   "mimetype": "text/x-python",
   "name": "python",
   "nbconvert_exporter": "python",
   "pygments_lexer": "ipython3",
   "version": "3.11.8"
  }
 },
 "nbformat": 4,
 "nbformat_minor": 2
}
